{
 "cells": [
  {
   "cell_type": "markdown",
   "metadata": {},
   "source": [
    "## Salario semanal"
   ]
  },
  {
   "cell_type": "code",
   "execution_count": null,
   "metadata": {},
   "outputs": [],
   "source": [
    "#definicion de las variables \n",
    "SALARIO = 500\n",
    "COMISION =0.10\n",
    "# se pide el numero de ventas que se hicieron \n",
    "ventas_p = float(input(\"ingrese la cantidad de ventas\"))\n",
    "\n",
    "#se convierte el numero de ventas a numero flotante\n",
    "\n",
    "ventas = ventas_p * COMISION\n",
    "salario_total = SALARIO + ventas\n",
    "\n",
    "print(f\"El salario total del vendedor es: ${salario_total:.2f}\")"
   ]
  },
  {
   "cell_type": "markdown",
   "metadata": {},
   "source": [
    "## Fruta Virtual"
   ]
  },
  {
   "cell_type": "code",
   "execution_count": null,
   "metadata": {},
   "outputs": [],
   "source": [
    "#  Creacion de el catalogo \n",
    "catalogo_frutas = {\n",
    "    \"manzana\": 0.50,\n",
    "    \"platano\": 0.30,\n",
    "    \"naranja\": 0.60,\n",
    "    \"pera\": 0.70,\n",
    "    \"uva\": 1.20,\n",
    "    \"fresa\": 1.50,\n",
    "    \"kiwi\": 0.80,\n",
    "    \"mango\": 1.00,\n",
    "    \"piña\": 1.50,\n",
    "    \"sandia\": 0.90,\n",
    "    \"cereza\": 2.00,\n",
    "    \"melocoton\": 1.30,\n",
    "    \"papaya\": 0.60,\n",
    "    \"mandarina\": 0.40,\n",
    "    \"frambuesa\": 2.50\n",
    "}\n",
    "#ingreso de la fruta deseada \n",
    "fruta = input(\"ingrese la futa que desea\").lower()\n",
    "\n",
    "#impresion de la futa con precio\n",
    "catalogo_frutas.get(fruta, \"No se encontro la fruta en el catalogo\")\n",
    " "
   ]
  },
  {
   "cell_type": "markdown",
   "metadata": {},
   "source": [
    "## Casino"
   ]
  },
  {
   "cell_type": "code",
   "execution_count": null,
   "metadata": {},
   "outputs": [],
   "source": [
    "#importar la libreria de random \n",
    "import random \n",
    "#definir los dos dados de la manera que nos de un valor en el 1 y el 6\n",
    "dado1 = random.randint(1,6)\n",
    "dado2 = random.randint(1,6)\n",
    "#imprimir los numeros generados \n",
    "print (dado1)\n",
    "print (dado2)\n",
    "# se imprime la suma de los dos dados \n",
    "print (dado1+dado2)"
   ]
  },
  {
   "cell_type": "markdown",
   "metadata": {},
   "source": [
    "## Calculadora de chocolate"
   ]
  },
  {
   "cell_type": "code",
   "execution_count": 47,
   "metadata": {},
   "outputs": [
    {
     "name": "stdout",
     "output_type": "stream",
     "text": [
      "Tu maximo de porciones es de 1\n"
     ]
    }
   ],
   "source": [
    "#definir las variables pidiendo los datos al usuario \n",
    "limite_caloria = int(input(\"Cuantas calorias puedes consumir\"))\n",
    "calorias_procion = int (input(\"Cuantas calorias tiene una porcion\"))\n",
    "#division para poder sacar la cantidad de porciones que se puede comer \n",
    "total_porciones = limite_caloria // calorias_procion\n",
    "\n",
    "print(f\"Tu maximo de porciones es de {total_porciones}\")"
   ]
  }
 ],
 "metadata": {
  "kernelspec": {
   "display_name": "Python 3",
   "language": "python",
   "name": "python3"
  },
  "language_info": {
   "codemirror_mode": {
    "name": "ipython",
    "version": 3
   },
   "file_extension": ".py",
   "mimetype": "text/x-python",
   "name": "python",
   "nbconvert_exporter": "python",
   "pygments_lexer": "ipython3",
   "version": "3.12.4"
  }
 },
 "nbformat": 4,
 "nbformat_minor": 2
}
