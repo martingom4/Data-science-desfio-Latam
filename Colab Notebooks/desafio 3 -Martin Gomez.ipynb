{
 "cells": [
  {
   "cell_type": "code",
   "execution_count": 1,
   "metadata": {},
   "outputs": [
    {
     "name": "stdout",
     "output_type": "stream",
     "text": [
      "kiwi\n"
     ]
    }
   ],
   "source": [
    "#definicion de la lista a trabajar\n",
    "lista = [\"manzana\", \"pera\", \"naranja\", \"plátano\", \"kiwi\", \"uva\", \"piña\",\"mango\", \"sandía\", \"melón\"]\n",
    "#Imprime el quinto elemento de la lista\n",
    "print(lista[4])"
   ]
  },
  {
   "cell_type": "code",
   "execution_count": 4,
   "metadata": {},
   "outputs": [
    {
     "name": "stdout",
     "output_type": "stream",
     "text": [
      "['plátano', 'kiwi', 'uva']\n"
     ]
    }
   ],
   "source": [
    "#Imprime del cuarto al sexto inclusive.\n",
    "print(lista[3:6])"
   ]
  },
  {
   "cell_type": "code",
   "execution_count": 6,
   "metadata": {},
   "outputs": [
    {
     "name": "stdout",
     "output_type": "stream",
     "text": [
      "['manzana', 'pera', 'plátano', 'kiwi', 'uva', 'piña', 'mango', 'sandía', 'melón']\n"
     ]
    }
   ],
   "source": [
    "#Elimina el elemento en la posición 3\n",
    "del lista[2]\n",
    "print(lista)"
   ]
  },
  {
   "cell_type": "code",
   "execution_count": 7,
   "metadata": {},
   "outputs": [
    {
     "name": "stdout",
     "output_type": "stream",
     "text": [
      "['manzana', 'pera', 'plátano', 'kiwi', 'uva', 'piña', 'mango', 'sandía', 'melón', 'papaya']\n"
     ]
    }
   ],
   "source": [
    "#Agrega dos nuevos elementos a la lista\n",
    "lista.append(\"papaya\")\n",
    "print(lista)"
   ]
  },
  {
   "cell_type": "code",
   "execution_count": 9,
   "metadata": {},
   "outputs": [
    {
     "name": "stdout",
     "output_type": "stream",
     "text": [
      "['kiwi', 'mango', 'manzana', 'melón', 'papaya', 'pera', 'piña', 'plátano', 'sandía', 'uva']\n"
     ]
    }
   ],
   "source": [
    "#Ordena la lista alfabéticamente.\n",
    "lista.sort()\n",
    "print(lista)"
   ]
  },
  {
   "cell_type": "code",
   "execution_count": 10,
   "metadata": {},
   "outputs": [
    {
     "name": "stdout",
     "output_type": "stream",
     "text": [
      "{'uno': 'kiwi', 'dos': 'mango', 'tres': 'manzana', 'cuatro': 'melón', 'cinco': 'papaya', 'seis': 'pera', 'siete': 'piña', 'ocho': 'plátano', 'nueve': 'sandía', 'diez': 'uva'}\n"
     ]
    }
   ],
   "source": [
    "#Genera un diccionario usando lista1 como llaves y lista como valores\n",
    "lista1 = [\"uno\", \"dos\", \"tres\", \"cuatro\", \"cinco\", \"seis\", \"siete\",\"ocho\", \"nueve\", \"diez\", \"once\", \"doce\", \"trece\", \"catorce\"]\n",
    "diccionario = dict(zip(lista1, lista))\n",
    "print(diccionario)"
   ]
  },
  {
   "cell_type": "code",
   "execution_count": 1,
   "metadata": {},
   "outputs": [
    {
     "name": "stdout",
     "output_type": "stream",
     "text": [
      "[0.   5.06 4.29 ... 4.68 5.12 4.92]\n"
     ]
    }
   ],
   "source": [
    "import numpy as np\n",
    "\n",
    "array = np.loadtxt(\"../apoyodesafio/alcohol_cerveza.csv\")\n",
    "\n",
    "print(array)"
   ]
  },
  {
   "cell_type": "code",
   "execution_count": 2,
   "metadata": {},
   "outputs": [
    {
     "name": "stdout",
     "output_type": "stream",
     "text": [
      "5.005334665334665\n",
      "0.34934892044901755\n"
     ]
    }
   ],
   "source": [
    "#se calcula la media de los datos \n",
    "media = array.mean()\n",
    "#se calcula la desviacion de los datos previamente cargado\n",
    "desviacion = array.std()\n",
    "# se hace la impresion de los resultados \n",
    "print(media)\n",
    "print(desviacion)"
   ]
  },
  {
   "cell_type": "code",
   "execution_count": 3,
   "metadata": {},
   "outputs": [
    {
     "name": "stdout",
     "output_type": "stream",
     "text": [
      "3.9572879039876123\n",
      "6.053381426681717\n"
     ]
    }
   ],
   "source": [
    "# se calcula el limite inferior \n",
    "lic = media - 3*desviacion\n",
    "# se calcula el limite superior \n",
    "lsc = media + 3*desviacion\n",
    "# se imprimen los dos resultados \n",
    "print(lic)\n",
    "print(lsc)"
   ]
  },
  {
   "cell_type": "code",
   "execution_count": 4,
   "metadata": {},
   "outputs": [
    {
     "name": "stdout",
     "output_type": "stream",
     "text": [
      "[0.   3.87]\n"
     ]
    }
   ],
   "source": [
    "#se obtienen los datos que estan fuera de rango con la logica or de numpy \n",
    "datos_atipicos = array[np.logical_or(array < lic, array > lsc)]\n",
    "# se hace la impresion de los datos \n",
    "print(datos_atipicos)"
   ]
  }
 ],
 "metadata": {
  "kernelspec": {
   "display_name": "Python 3",
   "language": "python",
   "name": "python3"
  },
  "language_info": {
   "codemirror_mode": {
    "name": "ipython",
    "version": 3
   },
   "file_extension": ".py",
   "mimetype": "text/x-python",
   "name": "python",
   "nbconvert_exporter": "python",
   "pygments_lexer": "ipython3",
   "version": "3.12.4"
  }
 },
 "nbformat": 4,
 "nbformat_minor": 2
}
