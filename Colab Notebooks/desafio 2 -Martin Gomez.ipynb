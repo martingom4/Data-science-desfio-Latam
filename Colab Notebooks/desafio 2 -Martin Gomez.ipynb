{
 "cells": [
  {
   "cell_type": "markdown",
   "metadata": {},
   "source": [
    " # <center><font color='white'>Suma de números pares</font></center>"
   ]
  },
  {
   "cell_type": "code",
   "execution_count": null,
   "metadata": {},
   "outputs": [],
   "source": [
    "# Solicitar al usuario dos números enteros\n",
    "num1 = int(input(\"Ingrese el primer número par: \"))\n",
    "num2 = int(input(\"Ingrese el segundo número par: \"))\n",
    "# Asegurar que num1 sea menor o igual que num2\n",
    "if num1 > num2:\n",
    "    num1, num2 = num2, num1\n",
    "    # Inicializar la suma de los números pares\n",
    "suma_pares = 0\n",
    "    # Sumar todos los números pares entre num1 y num2, inclusive\n",
    "for i in range(num1, num2 + 1 ):\n",
    "    if i % 2 == 0:\n",
    "        print (i)\n",
    "        suma_pares = suma_pares + i\n",
    "# Imprimir el resultado\n",
    "print(f\"La suma de todos los números pares entre {num1} y {num2} es: {suma_pares}\")\n",
    "\n"
   ]
  },
  {
   "cell_type": "markdown",
   "metadata": {},
   "source": [
    " # <center><font color='white'>Calculadora de áreas</font></center>"
   ]
  },
  {
   "cell_type": "code",
   "execution_count": 1,
   "metadata": {},
   "outputs": [
    {
     "name": "stdout",
     "output_type": "stream",
     "text": [
      "El área del cuadrado es 4.0\n"
     ]
    }
   ],
   "source": [
    "import math  # Importa el módulo math para operaciones matemáticas\n",
    "PI = math.pi\n",
    "# Solicita al usuario que ingrese una opción\n",
    "opcion = int(input(\"Ingrese la opción que desea: 1. Cuadrado  2. Triángulo  3. Círculo: \"))\n",
    "\n",
    "# Si el usuario elige la opción 1 (Cuadrado)\n",
    "if opcion == 1:\n",
    "    lado = float(input(\"Ingrese el lado del cuadrado: \"))  # Pide al usuario ingresar el lado del cuadrado\n",
    "    area_cuadrado = lado**2  # Calcula el área del cuadrado\n",
    "    print(f\"El área del cuadrado es {area_cuadrado}\")  # Muestra el área del cuadrado\n",
    "\n",
    "# Si el usuario elige la opción 2 (Triángulo)\n",
    "elif opcion == 2:\n",
    "    base = float(input(\"Ingrese la base del triángulo: \"))  # Pide al usuario ingresar la base del triángulo\n",
    "    altura = float(input(\"Ingrese la altura del triángulo: \"))  # Pide al usuario ingresar la altura del triángulo\n",
    "    area_triangulo = (base * altura) / 2  # Calcula el área del triángulo\n",
    "    print(f\"El área del triángulo es {area_triangulo}\")  # Muestra el área del triángulo\n",
    "\n",
    "# Si el usuario elige la opción 3 (Círculo)\n",
    "elif opcion == 3:\n",
    "    radio = float(input(\"Ingrese el radio del círculo: \"))  # Pide al usuario ingresar el radio del círculo\n",
    "    area_circulo = PI * (radio ** 2)  # Calcula el área del círculo usando pi del módulo math\n",
    "    print(f\"El área del círculo es {area_circulo}\")  \n",
    "\n",
    "# Si el usuario ingresa una opción no válida\n",
    "else:\n",
    "    print(\"Opción no válida. Por favor, elija 1, 2 o 3.\")  \n",
    "\n"
   ]
  },
  {
   "cell_type": "markdown",
   "metadata": {},
   "source": [
    " # <center><font color='white'>Adivinador de  numero</font></center>"
   ]
  },
  {
   "cell_type": "code",
   "execution_count": 6,
   "metadata": {},
   "outputs": [
    {
     "name": "stdout",
     "output_type": "stream",
     "text": [
      "El número es mayor\n",
      "El número es mayor\n",
      "El número es mayor\n",
      "El número es menor\n",
      "El número es mayor\n",
      "El número es menor\n",
      "El número es mayor\n",
      "¡Has adivinado!\n"
     ]
    }
   ],
   "source": [
    "import random  # Importa el módulo random para generar números aleatorios\n",
    "\n",
    "a = random.randint(1, 100)  # Genera un número aleatorio entre 1 y 100 y lo asigna a la variable 'a'\n",
    "intentos = 0  # Inicializa el contador de intentos en 0\n",
    "\n",
    "# Inicia un bucle que se ejecuta hasta que los intentos sean menores a 10\n",
    "while True:\n",
    "    respuesta = int(input(\"Ingresa un número: \")) \n",
    "    intentos += 1  \n",
    "\n",
    "    # Verifica si la respuesta del usuario es menor que el número aleatorio\n",
    "    if respuesta < a:\n",
    "        print(\"El número es mayor\")  # \n",
    "\n",
    "    # Verifica si la respuesta del usuario es mayor que el número aleatorio\n",
    "    if respuesta > a:\n",
    "        print(\"El número es menor\")  \n",
    "\n",
    "    # Verifica si la respuesta del usuario es igual al número aleatorio\n",
    "    if respuesta == a:\n",
    "        break  # Sale del bucle si el usuario ha adivinado el número\n",
    "\n",
    "# Verifica fuera del bucle si la respuesta del usuario es igual al número aleatorio\n",
    "if respuesta == a:\n",
    "    print(f\"¡Has adivinado!\")  \n",
    "else:\n",
    "    print(f\"¡Has fallado! El número es {a}\")  "
   ]
  },
  {
   "cell_type": "markdown",
   "metadata": {},
   "source": [
    " # <center><font color='white'>Maraton de caracol</font></center>"
   ]
  },
  {
   "cell_type": "code",
   "execution_count": 14,
   "metadata": {},
   "outputs": [
    {
     "name": "stdout",
     "output_type": "stream",
     "text": [
      "__________ 🐌\n",
      "____________________ 🐌\n",
      "______________________________ 🐌\n",
      "________________________________________ 🐌\n",
      "__________________________________________________ 🐌\n",
      "____________________________________________________________ 🐌\n",
      "______________________________________________________________________ 🐌\n",
      "________________________________________________________________________________ 🐌\n",
      "__________________________________________________________________________________________ 🐌\n",
      "____________________________________________________________________________________________________ 🐌\n"
     ]
    }
   ],
   "source": [
    "velo = int(input(\"Ingrese la velocidad del caracol: \"))  # Solicita al usuario que ingrese la velocidad del caracol y la convierte a entero\n",
    "distancia = 0  # Inicializa la distancia recorrida por el caracol\n",
    "\n",
    "if velo < 100:  # Verifica si la velocidad es menor que 100\n",
    "    while distancia < 100:\n",
    "        distancia += velo  # Aumenta la distancia recorrida por el caracol en cada iteración del bucle\n",
    "        print(\"_\"* distancia, \"🐌\")  # Imprime una línea con guiones bajos y el caracol al final\n",
    "else:\n",
    "    print(\"La velocidad debe ser menor a 100\")  # Imprime un mensaje de error si la velocidad es 100 o más\n",
    "\n",
    "\n"
   ]
  }
 ],
 "metadata": {
  "kernelspec": {
   "display_name": "Python 3",
   "language": "python",
   "name": "python3"
  },
  "language_info": {
   "codemirror_mode": {
    "name": "ipython",
    "version": 3
   },
   "file_extension": ".py",
   "mimetype": "text/x-python",
   "name": "python",
   "nbconvert_exporter": "python",
   "pygments_lexer": "ipython3",
   "version": "3.12.3"
  }
 },
 "nbformat": 4,
 "nbformat_minor": 2
}
