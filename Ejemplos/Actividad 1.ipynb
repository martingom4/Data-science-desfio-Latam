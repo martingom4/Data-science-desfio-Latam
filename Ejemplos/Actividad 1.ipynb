{
 "cells": [
  {
   "cell_type": "code",
   "execution_count": 7,
   "metadata": {},
   "outputs": [
    {
     "name": "stdout",
     "output_type": "stream",
     "text": [
      "📦🚚 Si el paquete va a la ciudad A 🏙️, lo entregamos allí. 🎁\n"
     ]
    }
   ],
   "source": [
    "x = input(\"ingrese el codigo postal a donde quiere mandar el paquete \").lower()\n",
    "\n",
    "if x == 'a':\n",
    "    print(\"📦🚚 Si el paquete va a la ciudad A 🏙️, lo entregamos allí. 🎁\")\n",
    "\n",
    "elif x == 'b':\n",
    "    print(\"📦🚚 Si el paquete va a la ciudad B 🏙️, lo entregamos allí. 🎁\")\n",
    "\n",
    "elif x == 'c':\n",
    "    print(\"📦🚚 Si el paquete va a la ciudad C 🏙️, lo entregamos allí. 🎁\")\n",
    "\n",
    "else:\n",
    "    print(\"📦🤷‍♀️ Si el paquete va a otro destino, lo sentimos, pero 🙅‍♀️ no podemos entregarlo ahí. 🚫\")"
   ]
  },
  {
   "cell_type": "code",
   "execution_count": 11,
   "metadata": {},
   "outputs": [
    {
     "name": "stdout",
     "output_type": "stream",
     "text": [
      "no se puede procesar el pago\n"
     ]
    }
   ],
   "source": [
    "#Definir variables\n",
    "\n",
    "precio_pedido = int(input(\"ingrese el monot de su pedido\"))\n",
    "\n",
    "if precio_pedido >= 1500:\n",
    "    print(\"tienes envio gratis \")\n",
    "elif precio_pedido < 1500 and precio_pedido >=1000:\n",
    "    print(\"se realiza envio gratis estandar \")\n",
    "elif precio_pedido > 500 and precio_pedido < 1000: \n",
    "    print(\"tiene un costo de 10 usd y se hace por envio estandar\")\n",
    "else:\n",
    "    print(\"no se puede procesar el pago\")"
   ]
  }
 ],
 "metadata": {
  "kernelspec": {
   "display_name": "Python 3",
   "language": "python",
   "name": "python3"
  },
  "language_info": {
   "codemirror_mode": {
    "name": "ipython",
    "version": 3
   },
   "file_extension": ".py",
   "mimetype": "text/x-python",
   "name": "python",
   "nbconvert_exporter": "python",
   "pygments_lexer": "ipython3",
   "version": "3.12.4"
  }
 },
 "nbformat": 4,
 "nbformat_minor": 2
}
